{
 "cells": [
  {
   "cell_type": "code",
   "execution_count": 1,
   "metadata": {
    "scrolled": true
   },
   "outputs": [
    {
     "name": "stdout",
     "output_type": "stream",
     "text": [
      "SM4a4b1ac197b248f5904c5f1b59c6590c\n"
     ]
    }
   ],
   "source": [
    "# importing the client from the twilio\n",
    "from twilio.rest import Client\n",
    "# Your Account Sid and Auth Token from twilio account\n",
    "account_sid = 'AC3b76c8518bed5726fe5e558f143f020f'\n",
    "auth_token = '4ebd0e39bb30d88e9950ecd06e7f1347'\n",
    "# instantiating the Client\n",
    "client = Client(account_sid, auth_token)\n",
    "# sending message\n",
    "disaster='Earth quake'\n",
    "message = client.messages.create(body='Alert!!! '+disaster+' predicted in your region.', from_=[+13132543124]\n",
    ", to=[+919492853680])\n",
    "# printing the sid after success\n",
    "print(message.sid)"
   ]
  },
  {
   "cell_type": "code",
   "execution_count": null,
   "metadata": {},
   "outputs": [],
   "source": []
  }
 ],
 "metadata": {
  "kernelspec": {
   "display_name": "Python 3",
   "language": "python",
   "name": "python3"
  },
  "language_info": {
   "codemirror_mode": {
    "name": "ipython",
    "version": 3
   },
   "file_extension": ".py",
   "mimetype": "text/x-python",
   "name": "python",
   "nbconvert_exporter": "python",
   "pygments_lexer": "ipython3",
   "version": "3.8.8"
  }
 },
 "nbformat": 4,
 "nbformat_minor": 4
}
