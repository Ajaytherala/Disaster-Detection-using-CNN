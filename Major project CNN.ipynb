{
 "cells": [
  {
   "cell_type": "markdown",
   "metadata": {
    "colab_type": "text",
    "id": "3DR-eO17geWu"
   },
   "source": [
    "# Convolutional Neural Network"
   ]
  },
  {
   "cell_type": "markdown",
   "metadata": {
    "colab_type": "text",
    "id": "EMefrVPCg-60"
   },
   "source": [
    "### Importing the libraries"
   ]
  },
  {
   "cell_type": "code",
   "execution_count": 1,
   "metadata": {
    "colab": {},
    "colab_type": "code",
    "id": "sCV30xyVhFbE"
   },
   "outputs": [],
   "source": [
    "import tensorflow as tf\n",
    "from keras.preprocessing.image import ImageDataGenerator\n",
    "import matplotlib.pyplot as plt\n",
    "import numpy as np\n",
    "from keras.preprocessing import image\n",
    "from twilio.rest import Client"
   ]
  },
  {
   "cell_type": "code",
   "execution_count": 2,
   "metadata": {
    "colab": {},
    "colab_type": "code",
    "id": "FIleuCAjoFD8"
   },
   "outputs": [
    {
     "data": {
      "text/plain": [
       "'2.3.0'"
      ]
     },
     "execution_count": 2,
     "metadata": {},
     "output_type": "execute_result"
    }
   ],
   "source": [
    "tf.__version__"
   ]
  },
  {
   "cell_type": "markdown",
   "metadata": {
    "colab_type": "text",
    "id": "oxQxCBWyoGPE"
   },
   "source": [
    "## Part 1 - Data Preprocessing"
   ]
  },
  {
   "cell_type": "markdown",
   "metadata": {
    "colab_type": "text",
    "id": "MvE-heJNo3GG"
   },
   "source": [
    "### Preprocessing the Training set"
   ]
  },
  {
   "cell_type": "code",
   "execution_count": 3,
   "metadata": {
    "colab": {},
    "colab_type": "code",
    "id": "0koUcJMJpEBD"
   },
   "outputs": [
    {
     "name": "stdout",
     "output_type": "stream",
     "text": [
      "Found 1441 images belonging to 2 classes.\n"
     ]
    }
   ],
   "source": [
    "train_datagen = ImageDataGenerator(rescale = 1./255,\n",
    "                                   shear_range = 0.2,\n",
    "                                   zoom_range = 0.2,\n",
    "                                   horizontal_flip = True)\n",
    "training_set = train_datagen.flow_from_directory('dataset/training_set',\n",
    "                                                 target_size = (64, 64),\n",
    "                                                 batch_size = 32,\n",
    "                                                 class_mode = 'binary')"
   ]
  },
  {
   "cell_type": "markdown",
   "metadata": {
    "colab_type": "text",
    "id": "mrCMmGw9pHys"
   },
   "source": [
    "### Preprocessing the Test set"
   ]
  },
  {
   "cell_type": "code",
   "execution_count": 4,
   "metadata": {
    "colab": {},
    "colab_type": "code",
    "id": "SH4WzfOhpKc3"
   },
   "outputs": [
    {
     "name": "stdout",
     "output_type": "stream",
     "text": [
      "Found 398 images belonging to 2 classes.\n"
     ]
    }
   ],
   "source": [
    "test_datagen = ImageDataGenerator(rescale = 1./255)\n",
    "test_set = test_datagen.flow_from_directory('dataset/test_set',\n",
    "                                            target_size = (64, 64),\n",
    "                                            batch_size = 32,\n",
    "                                            class_mode = 'binary')"
   ]
  },
  {
   "cell_type": "code",
   "execution_count": 5,
   "metadata": {},
   "outputs": [],
   "source": [
    "import math\n",
    "total_train=1441\n",
    "total_val=398\n",
    "batch_size=32\n",
    "spe=math.ceil(total_train/batch_size)\n"
   ]
  },
  {
   "cell_type": "code",
   "execution_count": 6,
   "metadata": {},
   "outputs": [],
   "source": [
    "total_val=398\n",
    "batch_size=32\n",
    "vs= math.ceil(total_val/batch_size)\n"
   ]
  },
  {
   "cell_type": "markdown",
   "metadata": {
    "colab_type": "text",
    "id": "af8O4l90gk7B"
   },
   "source": [
    "## Part 2 - Building the CNN"
   ]
  },
  {
   "cell_type": "markdown",
   "metadata": {
    "colab_type": "text",
    "id": "ces1gXY2lmoX"
   },
   "source": [
    "### Initialising the CNN"
   ]
  },
  {
   "cell_type": "code",
   "execution_count": 7,
   "metadata": {
    "colab": {},
    "colab_type": "code",
    "id": "SAUt4UMPlhLS"
   },
   "outputs": [],
   "source": [
    "cnn = tf.keras.models.Sequential()"
   ]
  },
  {
   "cell_type": "markdown",
   "metadata": {
    "colab_type": "text",
    "id": "u5YJj_XMl5LF"
   },
   "source": [
    "### Step 1 - Convolution"
   ]
  },
  {
   "cell_type": "code",
   "execution_count": 8,
   "metadata": {
    "colab": {},
    "colab_type": "code",
    "id": "XPzPrMckl-hV"
   },
   "outputs": [],
   "source": [
    "cnn.add(tf.keras.layers.Conv2D(filters=32, kernel_size=3, activation='relu', input_shape=[64, 64, 3]))"
   ]
  },
  {
   "cell_type": "markdown",
   "metadata": {
    "colab_type": "text",
    "id": "tf87FpvxmNOJ"
   },
   "source": [
    "### Step 2 - Pooling"
   ]
  },
  {
   "cell_type": "code",
   "execution_count": 9,
   "metadata": {
    "colab": {},
    "colab_type": "code",
    "id": "ncpqPl69mOac"
   },
   "outputs": [],
   "source": [
    "cnn.add(tf.keras.layers.MaxPool2D(pool_size=2, strides=2))\n"
   ]
  },
  {
   "cell_type": "markdown",
   "metadata": {
    "colab_type": "text",
    "id": "xaTOgD8rm4mU"
   },
   "source": [
    "### Adding a second convolutional layer"
   ]
  },
  {
   "cell_type": "code",
   "execution_count": 10,
   "metadata": {
    "colab": {},
    "colab_type": "code",
    "id": "i_-FZjn_m8gk"
   },
   "outputs": [],
   "source": [
    "cnn.add(tf.keras.layers.Conv2D(filters=32, kernel_size=3, activation='relu'))\n",
    "cnn.add(tf.keras.layers.MaxPool2D(pool_size=2, strides=2))\n"
   ]
  },
  {
   "cell_type": "markdown",
   "metadata": {
    "colab_type": "text",
    "id": "tmiEuvTunKfk"
   },
   "source": [
    "### Step 3 - Flattening"
   ]
  },
  {
   "cell_type": "code",
   "execution_count": 11,
   "metadata": {
    "colab": {},
    "colab_type": "code",
    "id": "6AZeOGCvnNZn"
   },
   "outputs": [],
   "source": [
    "cnn.add(tf.keras.layers.Flatten())"
   ]
  },
  {
   "cell_type": "markdown",
   "metadata": {
    "colab_type": "text",
    "id": "dAoSECOm203v"
   },
   "source": [
    "### Step 4 - Full Connection"
   ]
  },
  {
   "cell_type": "code",
   "execution_count": 12,
   "metadata": {
    "colab": {},
    "colab_type": "code",
    "id": "8GtmUlLd26Nq"
   },
   "outputs": [],
   "source": [
    "cnn.add(tf.keras.layers.Dense(units=128, activation='relu'))"
   ]
  },
  {
   "cell_type": "markdown",
   "metadata": {
    "colab_type": "text",
    "id": "yTldFvbX28Na"
   },
   "source": [
    "### Step 5 - Output Layer"
   ]
  },
  {
   "cell_type": "code",
   "execution_count": 13,
   "metadata": {
    "colab": {},
    "colab_type": "code",
    "id": "1p_Zj1Mc3Ko_"
   },
   "outputs": [],
   "source": [
    "cnn.add(tf.keras.layers.Dense(units=1, activation='sigmoid'))"
   ]
  },
  {
   "cell_type": "code",
   "execution_count": 14,
   "metadata": {},
   "outputs": [
    {
     "name": "stdout",
     "output_type": "stream",
     "text": [
      "Model: \"sequential\"\n",
      "_________________________________________________________________\n",
      "Layer (type)                 Output Shape              Param #   \n",
      "=================================================================\n",
      "conv2d (Conv2D)              (None, 62, 62, 32)        896       \n",
      "_________________________________________________________________\n",
      "max_pooling2d (MaxPooling2D) (None, 31, 31, 32)        0         \n",
      "_________________________________________________________________\n",
      "conv2d_1 (Conv2D)            (None, 29, 29, 32)        9248      \n",
      "_________________________________________________________________\n",
      "max_pooling2d_1 (MaxPooling2 (None, 14, 14, 32)        0         \n",
      "_________________________________________________________________\n",
      "flatten (Flatten)            (None, 6272)              0         \n",
      "_________________________________________________________________\n",
      "dense (Dense)                (None, 128)               802944    \n",
      "_________________________________________________________________\n",
      "dense_1 (Dense)              (None, 1)                 129       \n",
      "=================================================================\n",
      "Total params: 813,217\n",
      "Trainable params: 813,217\n",
      "Non-trainable params: 0\n",
      "_________________________________________________________________\n"
     ]
    }
   ],
   "source": [
    "cnn.summary()"
   ]
  },
  {
   "cell_type": "markdown",
   "metadata": {
    "colab_type": "text",
    "id": "D6XkI90snSDl"
   },
   "source": [
    "## Part 3 - Training the CNN"
   ]
  },
  {
   "cell_type": "markdown",
   "metadata": {
    "colab_type": "text",
    "id": "vfrFQACEnc6i"
   },
   "source": [
    "### Compiling the CNN"
   ]
  },
  {
   "cell_type": "code",
   "execution_count": 15,
   "metadata": {},
   "outputs": [],
   "source": [
    "cnn.compile(optimizer = 'adamax', loss = 'binary_crossentropy', metrics = ['accuracy'])"
   ]
  },
  {
   "cell_type": "markdown",
   "metadata": {
    "colab_type": "text",
    "id": "ehS-v3MIpX2h"
   },
   "source": [
    "### Training the CNN on the Training set and evaluating it on the Test set"
   ]
  },
  {
   "cell_type": "code",
   "execution_count": 16,
   "metadata": {
    "colab": {},
    "colab_type": "code",
    "id": "XUj1W4PJptta"
   },
   "outputs": [
    {
     "name": "stdout",
     "output_type": "stream",
     "text": [
      "Epoch 1/25\n",
      "46/46 [==============================] - 52s 1s/step - loss: 0.5681 - accuracy: 0.7217 - val_loss: 0.3621 - val_accuracy: 0.8618\n",
      "Epoch 2/25\n",
      "46/46 [==============================] - 32s 690ms/step - loss: 0.3249 - accuracy: 0.8799 - val_loss: 0.2643 - val_accuracy: 0.9095\n",
      "Epoch 3/25\n",
      "46/46 [==============================] - 32s 699ms/step - loss: 0.2595 - accuracy: 0.8987 - val_loss: 0.2311 - val_accuracy: 0.9246\n",
      "Epoch 4/25\n",
      "46/46 [==============================] - 31s 677ms/step - loss: 0.2229 - accuracy: 0.9070 - val_loss: 0.2055 - val_accuracy: 0.9347\n",
      "Epoch 5/25\n",
      "46/46 [==============================] - 31s 668ms/step - loss: 0.2284 - accuracy: 0.8987 - val_loss: 0.2049 - val_accuracy: 0.9422\n",
      "Epoch 6/25\n",
      "46/46 [==============================] - 31s 681ms/step - loss: 0.1988 - accuracy: 0.9237 - val_loss: 0.2294 - val_accuracy: 0.9146\n",
      "Epoch 7/25\n",
      "46/46 [==============================] - 32s 697ms/step - loss: 0.1910 - accuracy: 0.9264 - val_loss: 0.2218 - val_accuracy: 0.9146\n",
      "Epoch 8/25\n",
      "46/46 [==============================] - 31s 679ms/step - loss: 0.1751 - accuracy: 0.9382 - val_loss: 0.2012 - val_accuracy: 0.9347\n",
      "Epoch 9/25\n",
      "46/46 [==============================] - 30s 651ms/step - loss: 0.1740 - accuracy: 0.9320 - val_loss: 0.2042 - val_accuracy: 0.9322\n",
      "Epoch 10/25\n",
      "46/46 [==============================] - 31s 678ms/step - loss: 0.1811 - accuracy: 0.9271 - val_loss: 0.3097 - val_accuracy: 0.8744\n",
      "Epoch 11/25\n",
      "46/46 [==============================] - 32s 687ms/step - loss: 0.1678 - accuracy: 0.9431 - val_loss: 0.2397 - val_accuracy: 0.9121\n",
      "Epoch 12/25\n",
      "46/46 [==============================] - 30s 653ms/step - loss: 0.1916 - accuracy: 0.9271 - val_loss: 0.1949 - val_accuracy: 0.9397\n",
      "Epoch 13/25\n",
      "46/46 [==============================] - 30s 661ms/step - loss: 0.1721 - accuracy: 0.9362 - val_loss: 0.1951 - val_accuracy: 0.9372\n",
      "Epoch 14/25\n",
      "46/46 [==============================] - 31s 670ms/step - loss: 0.1452 - accuracy: 0.9473 - val_loss: 0.2003 - val_accuracy: 0.9271\n",
      "Epoch 15/25\n",
      "46/46 [==============================] - 40s 864ms/step - loss: 0.1517 - accuracy: 0.9452 - val_loss: 0.2090 - val_accuracy: 0.9146\n",
      "Epoch 16/25\n",
      "46/46 [==============================] - 37s 795ms/step - loss: 0.1571 - accuracy: 0.9410 - val_loss: 0.2379 - val_accuracy: 0.9322\n",
      "Epoch 17/25\n",
      "46/46 [==============================] - 31s 668ms/step - loss: 0.1451 - accuracy: 0.9493 - val_loss: 0.1923 - val_accuracy: 0.9372\n",
      "Epoch 18/25\n",
      "46/46 [==============================] - 31s 681ms/step - loss: 0.1389 - accuracy: 0.9500 - val_loss: 0.1916 - val_accuracy: 0.9347\n",
      "Epoch 19/25\n",
      "46/46 [==============================] - 31s 668ms/step - loss: 0.1476 - accuracy: 0.9431 - val_loss: 0.1945 - val_accuracy: 0.9397\n",
      "Epoch 20/25\n",
      "46/46 [==============================] - 31s 670ms/step - loss: 0.1382 - accuracy: 0.9486 - val_loss: 0.1899 - val_accuracy: 0.9347\n",
      "Epoch 21/25\n",
      "46/46 [==============================] - 31s 681ms/step - loss: 0.1284 - accuracy: 0.9535 - val_loss: 0.2210 - val_accuracy: 0.9121\n",
      "Epoch 22/25\n",
      "46/46 [==============================] - 31s 674ms/step - loss: 0.1371 - accuracy: 0.9493 - val_loss: 0.3028 - val_accuracy: 0.8794\n",
      "Epoch 23/25\n",
      "46/46 [==============================] - 31s 676ms/step - loss: 0.1368 - accuracy: 0.9500 - val_loss: 0.2140 - val_accuracy: 0.9271\n",
      "Epoch 24/25\n",
      "46/46 [==============================] - 31s 680ms/step - loss: 0.1170 - accuracy: 0.9584 - val_loss: 0.1955 - val_accuracy: 0.9322\n",
      "Epoch 25/25\n",
      "46/46 [==============================] - 31s 682ms/step - loss: 0.1099 - accuracy: 0.9611 - val_loss: 0.2001 - val_accuracy: 0.9347\n"
     ]
    }
   ],
   "source": [
    "history=cnn.fit(x = training_set, validation_data = test_set, epochs = 25, steps_per_epoch=spe)"
   ]
  },
  {
   "cell_type": "markdown",
   "metadata": {},
   "source": [
    "# Plotting Graphs"
   ]
  },
  {
   "cell_type": "code",
   "execution_count": 17,
   "metadata": {},
   "outputs": [
    {
     "data": {
      "image/png": "[encoded data removed]",
      "text/plain": [
       "<Figure size 432x288 with 1 Axes>"
      ]
     },
     "metadata": {
      "needs_background": "light"
     },
     "output_type": "display_data"
    },
    {
     "data": {
      "image/png": "[encoded data removed]",
      "text/plain": [
       "<Figure size 432x288 with 1 Axes>"
      ]
     },
     "metadata": {
      "needs_background": "light"
     },
     "output_type": "display_data"
    }
   ],
   "source": [
    "l1_adamax=history.history['loss']\n",
    "l2_adamax=history.history['val_loss']\n",
    "l3_adamax=history.history['accuracy']\n",
    "l4_adamax=history.history['val_accuracy']\n",
    "epochs=range(1,10)\n",
    "plt.plot(l1_adamax,'g',label='Training loss')\n",
    "plt.plot(l2_adamax,'b',label='Validation loss')\n",
    "plt.title('Training and Validation Loss')\n",
    "plt.xlabel('Epochs')\n",
    "plt.ylabel('Loss')\n",
    "plt.legend()\n",
    "plt.show()\n",
    "epochs = range(1,11)\n",
    "plt.plot(l3_adamax, 'g', label='Training accuracy')\n",
    "plt.plot(l4_adamax, 'b', label='validation accuracy')\n",
    "plt.title('Training and Validation accuracy')\n",
    "plt.xlabel('Epochs')\n",
    "plt.ylabel('Accuracy')\n",
    "plt.legend()\n",
    "plt.show()\n"
   ]
  },
  {
   "cell_type": "markdown",
   "metadata": {
    "colab_type": "text",
    "id": "U3PZasO0006Z"
   },
   "source": [
    "## Part 4 - Making a single prediction"
   ]
  },
  {
   "cell_type": "code",
   "execution_count": 32,
   "metadata": {
    "colab": {},
    "colab_type": "code",
    "id": "gsSiWEJY1BPB"
   },
   "outputs": [],
   "source": [
    "\n",
    "test_image = image.load_img('dataset/single_prediction/cyc.jpg', target_size = (64, 64))\n",
    "test_image = image.img_to_array(test_image)\n",
    "test_image = np.expand_dims(test_image, axis = 0)\n",
    "result = cnn.predict(test_image)"
   ]
  },
  {
   "cell_type": "code",
   "execution_count": 33,
   "metadata": {},
   "outputs": [
    {
     "name": "stdout",
     "output_type": "stream",
     "text": [
      "{'Cyclone': 0, 'Earthquake': 1}\n"
     ]
    }
   ],
   "source": [
    "print(training_set.class_indices)"
   ]
  },
  {
   "cell_type": "code",
   "execution_count": 34,
   "metadata": {},
   "outputs": [],
   "source": [
    "if result[0][0] == 1:\n",
    "  prediction = 'Earth Quake'\n",
    "else:\n",
    "  prediction = 'Cyclone'"
   ]
  },
  {
   "cell_type": "code",
   "execution_count": 35,
   "metadata": {},
   "outputs": [
    {
     "name": "stdout",
     "output_type": "stream",
     "text": [
      "Cyclone\n"
     ]
    }
   ],
   "source": [
    "print(prediction)"
   ]
  },
  {
   "cell_type": "code",
   "execution_count": 22,
   "metadata": {},
   "outputs": [],
   "source": [
    "from skimage.metrics import structural_similarity\n",
    "import cv2\n",
    "\n",
    "def orb_sim(img1, img2):\n",
    "  orb = cv2.ORB_create()\n",
    "  kp_a, desc_a = orb.detectAndCompute(img1, None)\n",
    "  kp_b, desc_b = orb.detectAndCompute(img2, None)\n",
    "\n",
    "  bf = cv2.BFMatcher(cv2.NORM_HAMMING, crossCheck=True)\n",
    "    \n",
    " \n",
    "  matches = bf.match(desc_a, desc_b)\n",
    "\n",
    "  similar_regions = [i for i in matches if i.distance < 50]  \n",
    "  if len(matches) == 0:\n",
    "    return 0\n",
    "  return len(similar_regions) / len(matches)\n",
    "\n",
    "\n",
    "\n",
    "\n",
    "img1 = cv2.imread(r'C:\\Users\\AJAY THERALA\\OneDrive\\Desktop\\Major Project\\dataset\\single_prediction\\cyclone.jpg', 0) \n",
    "img2 = cv2.imread(r'C:\\Users\\AJAY THERALA\\OneDrive\\Desktop\\Major Project\\dataset\\single_prediction\\cyc.jpg', 0) \n",
    "\n",
    "\n",
    "orb_similarity = orb_sim(img1, img2) \n",
    "orb_similarity=str(orb_similarity*1000)"
   ]
  },
  {
   "cell_type": "markdown",
   "metadata": {},
   "source": [
    "# Part 5 Sending Alert Notification"
   ]
  },
  {
   "cell_type": "code",
   "execution_count": 23,
   "metadata": {},
   "outputs": [
    {
     "name": "stdout",
     "output_type": "stream",
     "text": [
      "SMf1f1dd76f1544d679b6a8e460a30524d\n"
     ]
    }
   ],
   "source": [
    "dlist=['Cyclone','Earth Quake']\n",
    "if prediction in dlist:\n",
    "    account_sid = 'AC3b76c8518bed5726fe5e558f143f020f'\n",
    "    auth_token = '4ebd0e39bb30d88e9950ecd06e7f1347'\n",
    "    client = Client(account_sid, auth_token)\n",
    "    message = client.messages.create(body='Alert!!! '+prediction+' predicted with the similarity of '+orb_similarity+' in your region. Please move to the safest region as soon as possible!!!!!!!!!', from_=[+13132543124]\n",
    "    , to=[+919492853680])\n",
    "    print(message.sid)"
   ]
  },
  {
   "cell_type": "code",
   "execution_count": 24,
   "metadata": {},
   "outputs": [],
   "source": [
    "from keras.preprocessing import image\n",
    "test_image = image.load_img('dataset/single_prediction/eq.jpg', target_size = (64, 64))\n",
    "test_image = image.img_to_array(test_image)\n",
    "test_image = np.expand_dims(test_image, axis = 0)\n",
    "result = cnn.predict(test_image)"
   ]
  },
  {
   "cell_type": "code",
   "execution_count": 25,
   "metadata": {},
   "outputs": [
    {
     "name": "stdout",
     "output_type": "stream",
     "text": [
      "Earth Quake\n"
     ]
    }
   ],
   "source": [
    "if result[0][0] == 1:\n",
    "  prediction = 'Earth Quake'\n",
    "else:\n",
    "  prediction = 'Cyclone'\n",
    "print(prediction)"
   ]
  },
  {
   "cell_type": "code",
   "execution_count": 26,
   "metadata": {},
   "outputs": [],
   "source": [
    "from skimage.metrics import structural_similarity\n",
    "import cv2\n",
    "\n",
    "def orb_sim(img1, img2):\n",
    "  orb = cv2.ORB_create()\n",
    "  kp_a, desc_a = orb.detectAndCompute(img1, None)\n",
    "  kp_b, desc_b = orb.detectAndCompute(img2, None)\n",
    "\n",
    "  bf = cv2.BFMatcher(cv2.NORM_HAMMING, crossCheck=True)\n",
    "    \n",
    " \n",
    "  matches = bf.match(desc_a, desc_b)\n",
    "\n",
    "  similar_regions = [i for i in matches if i.distance < 50]  \n",
    "  if len(matches) == 0:\n",
    "    return 0\n",
    "  return len(similar_regions) / len(matches)\n",
    "\n",
    "\n",
    "\n",
    "\n",
    "img1 = cv2.imread(r'C:\\Users\\AJAY THERALA\\OneDrive\\Desktop\\Major Project\\dataset\\single_prediction\\cyclone.jpg', 0) \n",
    "img2 = cv2.imread(r'C:\\Users\\AJAY THERALA\\OneDrive\\Desktop\\Major Project\\dataset\\single_prediction\\cyc1.jpg', 0) \n",
    "\n",
    "\n",
    "orb_similarity = orb_sim(img1, img2) \n",
    "orb_similarity=str(orb_similarity*1000)"
   ]
  },
  {
   "cell_type": "code",
   "execution_count": 27,
   "metadata": {},
   "outputs": [
    {
     "name": "stdout",
     "output_type": "stream",
     "text": [
      "SM435a1dc6690744deb27390048adb93c1\n"
     ]
    }
   ],
   "source": [
    "dlist=['Cyclone','Earth Quake']\n",
    "if prediction in dlist:\n",
    "    account_sid = 'AC3b76c8518bed5726fe5e558f143f020f'\n",
    "    auth_token = '4ebd0e39bb30d88e9950ecd06e7f1347'\n",
    "    client = Client(account_sid, auth_token)\n",
    "    message = client.messages.create(body='Alert!!! '+prediction+' predicted with the similarity of '+orb_similarity+' in your region. Please move to the safest region as soon as possible!!!!!!!!!', from_=[+13132543124]\n",
    "    , to=[+919492853680])\n",
    "    print(message.sid)"
   ]
  },
  {
   "cell_type": "code",
   "execution_count": null,
   "metadata": {},
   "outputs": [],
   "source": []
  }
 ],
 "metadata": {
  "colab": {
   "collapsed_sections": [],
   "name": "convolutional_neural_network.ipynb",
   "provenance": [],
   "toc_visible": true
  },
  "kernelspec": {
   "display_name": "Python 3",
   "language": "python",
   "name": "python3"
  },
  "language_info": {
   "codemirror_mode": {
    "name": "ipython",
    "version": 3
   },
   "file_extension": ".py",
   "mimetype": "text/x-python",
   "name": "python",
   "nbconvert_exporter": "python",
   "pygments_lexer": "ipython3",
   "version": "3.8.8"
  }
 },
 "nbformat": 4,
 "nbformat_minor": 1
}
